{
 "cells": [
  {
   "cell_type": "code",
   "execution_count": 1,
   "metadata": {},
   "outputs": [],
   "source": [
    "import pandas as pd\n",
    "import numpy as np\n",
    "import seaborn as sns\n",
    "import matplotlib.pyplot as plt"
   ]
  },
  {
   "cell_type": "code",
   "execution_count": 2,
   "metadata": {},
   "outputs": [],
   "source": [
    "df=pd.read_csv('DATASET2.CSV')"
   ]
  },
  {
   "cell_type": "code",
   "execution_count": 3,
   "metadata": {},
   "outputs": [
    {
     "data": {
      "text/html": [
       "<div>\n",
       "<style scoped>\n",
       "    .dataframe tbody tr th:only-of-type {\n",
       "        vertical-align: middle;\n",
       "    }\n",
       "\n",
       "    .dataframe tbody tr th {\n",
       "        vertical-align: top;\n",
       "    }\n",
       "\n",
       "    .dataframe thead th {\n",
       "        text-align: right;\n",
       "    }\n",
       "</style>\n",
       "<table border=\"1\" class=\"dataframe\">\n",
       "  <thead>\n",
       "    <tr style=\"text-align: right;\">\n",
       "      <th></th>\n",
       "      <th>Unnamed: 0</th>\n",
       "      <th>Id</th>\n",
       "      <th>groupId</th>\n",
       "      <th>matchId</th>\n",
       "      <th>assists</th>\n",
       "      <th>boosts</th>\n",
       "      <th>damageDealt</th>\n",
       "      <th>DBNOs</th>\n",
       "      <th>headshotKills</th>\n",
       "      <th>heals</th>\n",
       "      <th>...</th>\n",
       "      <th>revives</th>\n",
       "      <th>rideDistance</th>\n",
       "      <th>roadKills</th>\n",
       "      <th>swimDistance</th>\n",
       "      <th>teamKills</th>\n",
       "      <th>vehicleDestroys</th>\n",
       "      <th>walkDistance</th>\n",
       "      <th>weaponsAcquired</th>\n",
       "      <th>winPoints</th>\n",
       "      <th>winPlacePerc</th>\n",
       "    </tr>\n",
       "  </thead>\n",
       "  <tbody>\n",
       "    <tr>\n",
       "      <th>0</th>\n",
       "      <td>2093518</td>\n",
       "      <td>a3e3cea9f2e314</td>\n",
       "      <td>c9f6eaa81245b5</td>\n",
       "      <td>a3d8693390584c</td>\n",
       "      <td>0</td>\n",
       "      <td>0</td>\n",
       "      <td>25.93</td>\n",
       "      <td>0</td>\n",
       "      <td>0</td>\n",
       "      <td>0</td>\n",
       "      <td>...</td>\n",
       "      <td>0</td>\n",
       "      <td>0.0</td>\n",
       "      <td>0</td>\n",
       "      <td>0.0</td>\n",
       "      <td>0</td>\n",
       "      <td>0</td>\n",
       "      <td>151.30</td>\n",
       "      <td>1</td>\n",
       "      <td>1525</td>\n",
       "      <td>0.0667</td>\n",
       "    </tr>\n",
       "    <tr>\n",
       "      <th>1</th>\n",
       "      <td>3701672</td>\n",
       "      <td>43e4be7ad72cc7</td>\n",
       "      <td>521836de101ee8</td>\n",
       "      <td>b65de9055327e0</td>\n",
       "      <td>0</td>\n",
       "      <td>0</td>\n",
       "      <td>36.71</td>\n",
       "      <td>0</td>\n",
       "      <td>0</td>\n",
       "      <td>0</td>\n",
       "      <td>...</td>\n",
       "      <td>0</td>\n",
       "      <td>0.0</td>\n",
       "      <td>0</td>\n",
       "      <td>0.0</td>\n",
       "      <td>0</td>\n",
       "      <td>0</td>\n",
       "      <td>1918.00</td>\n",
       "      <td>7</td>\n",
       "      <td>1516</td>\n",
       "      <td>0.5862</td>\n",
       "    </tr>\n",
       "    <tr>\n",
       "      <th>2</th>\n",
       "      <td>2059784</td>\n",
       "      <td>9a68690e31fdff</td>\n",
       "      <td>4a72ffa2cebd90</td>\n",
       "      <td>d6aad3f9830e60</td>\n",
       "      <td>0</td>\n",
       "      <td>1</td>\n",
       "      <td>47.73</td>\n",
       "      <td>0</td>\n",
       "      <td>0</td>\n",
       "      <td>0</td>\n",
       "      <td>...</td>\n",
       "      <td>0</td>\n",
       "      <td>4088.0</td>\n",
       "      <td>0</td>\n",
       "      <td>0.0</td>\n",
       "      <td>0</td>\n",
       "      <td>0</td>\n",
       "      <td>820.00</td>\n",
       "      <td>7</td>\n",
       "      <td>0</td>\n",
       "      <td>0.8105</td>\n",
       "    </tr>\n",
       "    <tr>\n",
       "      <th>3</th>\n",
       "      <td>1302036</td>\n",
       "      <td>b147e1bd448fc4</td>\n",
       "      <td>9a8991656b3fea</td>\n",
       "      <td>d931c0932d8aca</td>\n",
       "      <td>0</td>\n",
       "      <td>0</td>\n",
       "      <td>0.00</td>\n",
       "      <td>0</td>\n",
       "      <td>0</td>\n",
       "      <td>0</td>\n",
       "      <td>...</td>\n",
       "      <td>1</td>\n",
       "      <td>0.0</td>\n",
       "      <td>0</td>\n",
       "      <td>0.0</td>\n",
       "      <td>0</td>\n",
       "      <td>0</td>\n",
       "      <td>38.81</td>\n",
       "      <td>0</td>\n",
       "      <td>1515</td>\n",
       "      <td>0.5556</td>\n",
       "    </tr>\n",
       "    <tr>\n",
       "      <th>4</th>\n",
       "      <td>297180</td>\n",
       "      <td>d818b4edd59612</td>\n",
       "      <td>eece87c8b846b3</td>\n",
       "      <td>ec2b5ed94baae3</td>\n",
       "      <td>0</td>\n",
       "      <td>2</td>\n",
       "      <td>100.00</td>\n",
       "      <td>0</td>\n",
       "      <td>0</td>\n",
       "      <td>3</td>\n",
       "      <td>...</td>\n",
       "      <td>0</td>\n",
       "      <td>918.4</td>\n",
       "      <td>0</td>\n",
       "      <td>0.0</td>\n",
       "      <td>0</td>\n",
       "      <td>0</td>\n",
       "      <td>1721.00</td>\n",
       "      <td>5</td>\n",
       "      <td>0</td>\n",
       "      <td>0.6429</td>\n",
       "    </tr>\n",
       "    <tr>\n",
       "      <th>...</th>\n",
       "      <td>...</td>\n",
       "      <td>...</td>\n",
       "      <td>...</td>\n",
       "      <td>...</td>\n",
       "      <td>...</td>\n",
       "      <td>...</td>\n",
       "      <td>...</td>\n",
       "      <td>...</td>\n",
       "      <td>...</td>\n",
       "      <td>...</td>\n",
       "      <td>...</td>\n",
       "      <td>...</td>\n",
       "      <td>...</td>\n",
       "      <td>...</td>\n",
       "      <td>...</td>\n",
       "      <td>...</td>\n",
       "      <td>...</td>\n",
       "      <td>...</td>\n",
       "      <td>...</td>\n",
       "      <td>...</td>\n",
       "      <td>...</td>\n",
       "    </tr>\n",
       "    <tr>\n",
       "      <th>1048570</th>\n",
       "      <td>2413071</td>\n",
       "      <td>21fe936deeb9d2</td>\n",
       "      <td>d74b252ac5cca2</td>\n",
       "      <td>5c02588dd90fa3</td>\n",
       "      <td>0</td>\n",
       "      <td>0</td>\n",
       "      <td>0.00</td>\n",
       "      <td>0</td>\n",
       "      <td>0</td>\n",
       "      <td>0</td>\n",
       "      <td>...</td>\n",
       "      <td>0</td>\n",
       "      <td>0.0</td>\n",
       "      <td>0</td>\n",
       "      <td>0.0</td>\n",
       "      <td>0</td>\n",
       "      <td>0</td>\n",
       "      <td>168.80</td>\n",
       "      <td>1</td>\n",
       "      <td>1550</td>\n",
       "      <td>0.4286</td>\n",
       "    </tr>\n",
       "    <tr>\n",
       "      <th>1048571</th>\n",
       "      <td>4325696</td>\n",
       "      <td>f4a6b9928d5b7d</td>\n",
       "      <td>c5224580b0f988</td>\n",
       "      <td>4bc3683196b592</td>\n",
       "      <td>1</td>\n",
       "      <td>0</td>\n",
       "      <td>198.00</td>\n",
       "      <td>2</td>\n",
       "      <td>0</td>\n",
       "      <td>0</td>\n",
       "      <td>...</td>\n",
       "      <td>0</td>\n",
       "      <td>0.0</td>\n",
       "      <td>0</td>\n",
       "      <td>0.0</td>\n",
       "      <td>0</td>\n",
       "      <td>0</td>\n",
       "      <td>152.40</td>\n",
       "      <td>2</td>\n",
       "      <td>1493</td>\n",
       "      <td>0.2857</td>\n",
       "    </tr>\n",
       "    <tr>\n",
       "      <th>1048572</th>\n",
       "      <td>1281350</td>\n",
       "      <td>35b1ccb8303644</td>\n",
       "      <td>602497e137b71d</td>\n",
       "      <td>187d82fdd77152</td>\n",
       "      <td>0</td>\n",
       "      <td>5</td>\n",
       "      <td>282.60</td>\n",
       "      <td>2</td>\n",
       "      <td>1</td>\n",
       "      <td>3</td>\n",
       "      <td>...</td>\n",
       "      <td>0</td>\n",
       "      <td>0.0</td>\n",
       "      <td>0</td>\n",
       "      <td>0.0</td>\n",
       "      <td>0</td>\n",
       "      <td>0</td>\n",
       "      <td>2924.00</td>\n",
       "      <td>2</td>\n",
       "      <td>0</td>\n",
       "      <td>0.9184</td>\n",
       "    </tr>\n",
       "    <tr>\n",
       "      <th>1048573</th>\n",
       "      <td>4377270</td>\n",
       "      <td>a133314e991b6c</td>\n",
       "      <td>67e931b2eb7c83</td>\n",
       "      <td>a04c03d60d2e76</td>\n",
       "      <td>0</td>\n",
       "      <td>0</td>\n",
       "      <td>100.00</td>\n",
       "      <td>1</td>\n",
       "      <td>0</td>\n",
       "      <td>0</td>\n",
       "      <td>...</td>\n",
       "      <td>0</td>\n",
       "      <td>0.0</td>\n",
       "      <td>0</td>\n",
       "      <td>0.0</td>\n",
       "      <td>0</td>\n",
       "      <td>0</td>\n",
       "      <td>381.80</td>\n",
       "      <td>4</td>\n",
       "      <td>1492</td>\n",
       "      <td>0.1304</td>\n",
       "    </tr>\n",
       "    <tr>\n",
       "      <th>1048574</th>\n",
       "      <td>1167613</td>\n",
       "      <td>9496938fd8b0a6</td>\n",
       "      <td>2d938efd219c9a</td>\n",
       "      <td>3c6050132a1cf0</td>\n",
       "      <td>0</td>\n",
       "      <td>2</td>\n",
       "      <td>77.00</td>\n",
       "      <td>0</td>\n",
       "      <td>0</td>\n",
       "      <td>1</td>\n",
       "      <td>...</td>\n",
       "      <td>0</td>\n",
       "      <td>0.0</td>\n",
       "      <td>0</td>\n",
       "      <td>0.0</td>\n",
       "      <td>0</td>\n",
       "      <td>0</td>\n",
       "      <td>683.50</td>\n",
       "      <td>2</td>\n",
       "      <td>0</td>\n",
       "      <td>0.4000</td>\n",
       "    </tr>\n",
       "  </tbody>\n",
       "</table>\n",
       "<p>1048575 rows × 30 columns</p>\n",
       "</div>"
      ],
      "text/plain": [
       "         Unnamed: 0              Id         groupId         matchId  assists  \\\n",
       "0           2093518  a3e3cea9f2e314  c9f6eaa81245b5  a3d8693390584c        0   \n",
       "1           3701672  43e4be7ad72cc7  521836de101ee8  b65de9055327e0        0   \n",
       "2           2059784  9a68690e31fdff  4a72ffa2cebd90  d6aad3f9830e60        0   \n",
       "3           1302036  b147e1bd448fc4  9a8991656b3fea  d931c0932d8aca        0   \n",
       "4            297180  d818b4edd59612  eece87c8b846b3  ec2b5ed94baae3        0   \n",
       "...             ...             ...             ...             ...      ...   \n",
       "1048570     2413071  21fe936deeb9d2  d74b252ac5cca2  5c02588dd90fa3        0   \n",
       "1048571     4325696  f4a6b9928d5b7d  c5224580b0f988  4bc3683196b592        1   \n",
       "1048572     1281350  35b1ccb8303644  602497e137b71d  187d82fdd77152        0   \n",
       "1048573     4377270  a133314e991b6c  67e931b2eb7c83  a04c03d60d2e76        0   \n",
       "1048574     1167613  9496938fd8b0a6  2d938efd219c9a  3c6050132a1cf0        0   \n",
       "\n",
       "         boosts  damageDealt  DBNOs  headshotKills  heals  ...  revives  \\\n",
       "0             0        25.93      0              0      0  ...        0   \n",
       "1             0        36.71      0              0      0  ...        0   \n",
       "2             1        47.73      0              0      0  ...        0   \n",
       "3             0         0.00      0              0      0  ...        1   \n",
       "4             2       100.00      0              0      3  ...        0   \n",
       "...         ...          ...    ...            ...    ...  ...      ...   \n",
       "1048570       0         0.00      0              0      0  ...        0   \n",
       "1048571       0       198.00      2              0      0  ...        0   \n",
       "1048572       5       282.60      2              1      3  ...        0   \n",
       "1048573       0       100.00      1              0      0  ...        0   \n",
       "1048574       2        77.00      0              0      1  ...        0   \n",
       "\n",
       "         rideDistance  roadKills  swimDistance  teamKills  vehicleDestroys  \\\n",
       "0                 0.0          0           0.0          0                0   \n",
       "1                 0.0          0           0.0          0                0   \n",
       "2              4088.0          0           0.0          0                0   \n",
       "3                 0.0          0           0.0          0                0   \n",
       "4               918.4          0           0.0          0                0   \n",
       "...               ...        ...           ...        ...              ...   \n",
       "1048570           0.0          0           0.0          0                0   \n",
       "1048571           0.0          0           0.0          0                0   \n",
       "1048572           0.0          0           0.0          0                0   \n",
       "1048573           0.0          0           0.0          0                0   \n",
       "1048574           0.0          0           0.0          0                0   \n",
       "\n",
       "        walkDistance  weaponsAcquired  winPoints  winPlacePerc  \n",
       "0             151.30                1       1525        0.0667  \n",
       "1            1918.00                7       1516        0.5862  \n",
       "2             820.00                7          0        0.8105  \n",
       "3              38.81                0       1515        0.5556  \n",
       "4            1721.00                5          0        0.6429  \n",
       "...              ...              ...        ...           ...  \n",
       "1048570       168.80                1       1550        0.4286  \n",
       "1048571       152.40                2       1493        0.2857  \n",
       "1048572      2924.00                2          0        0.9184  \n",
       "1048573       381.80                4       1492        0.1304  \n",
       "1048574       683.50                2          0        0.4000  \n",
       "\n",
       "[1048575 rows x 30 columns]"
      ]
     },
     "execution_count": 3,
     "metadata": {},
     "output_type": "execute_result"
    }
   ],
   "source": [
    "df"
   ]
  },
  {
   "cell_type": "code",
   "execution_count": 4,
   "metadata": {},
   "outputs": [
    {
     "data": {
      "text/plain": [
       "(1048575, 30)"
      ]
     },
     "execution_count": 4,
     "metadata": {},
     "output_type": "execute_result"
    }
   ],
   "source": [
    "df.shape"
   ]
  },
  {
   "cell_type": "code",
   "execution_count": 5,
   "metadata": {
    "scrolled": true
   },
   "outputs": [
    {
     "name": "stdout",
     "output_type": "stream",
     "text": [
      "<class 'pandas.core.frame.DataFrame'>\n",
      "RangeIndex: 1048575 entries, 0 to 1048574\n",
      "Data columns (total 30 columns):\n",
      " #   Column           Non-Null Count    Dtype  \n",
      "---  ------           --------------    -----  \n",
      " 0   Unnamed: 0       1048575 non-null  int64  \n",
      " 1   Id               1048575 non-null  object \n",
      " 2   groupId          1048575 non-null  object \n",
      " 3   matchId          1048575 non-null  object \n",
      " 4   assists          1048575 non-null  int64  \n",
      " 5   boosts           1048575 non-null  int64  \n",
      " 6   damageDealt      1048575 non-null  float64\n",
      " 7   DBNOs            1048575 non-null  int64  \n",
      " 8   headshotKills    1048575 non-null  int64  \n",
      " 9   heals            1048575 non-null  int64  \n",
      " 10  killPlace        1048575 non-null  int64  \n",
      " 11  killPoints       1048575 non-null  int64  \n",
      " 12  kills            1048575 non-null  int64  \n",
      " 13  killStreaks      1048575 non-null  int64  \n",
      " 14  longestKill      1048575 non-null  float64\n",
      " 15  matchDuration    1048575 non-null  int64  \n",
      " 16  matchType        1048575 non-null  object \n",
      " 17  maxPlace         1048575 non-null  int64  \n",
      " 18  numGroups        1048575 non-null  int64  \n",
      " 19  rankPoints       1048575 non-null  int64  \n",
      " 20  revives          1048575 non-null  int64  \n",
      " 21  rideDistance     1048575 non-null  float64\n",
      " 22  roadKills        1048575 non-null  int64  \n",
      " 23  swimDistance     1048575 non-null  float64\n",
      " 24  teamKills        1048575 non-null  int64  \n",
      " 25  vehicleDestroys  1048575 non-null  int64  \n",
      " 26  walkDistance     1048575 non-null  float64\n",
      " 27  weaponsAcquired  1048575 non-null  int64  \n",
      " 28  winPoints        1048575 non-null  int64  \n",
      " 29  winPlacePerc     1048574 non-null  float64\n",
      "dtypes: float64(6), int64(20), object(4)\n",
      "memory usage: 240.0+ MB\n"
     ]
    }
   ],
   "source": [
    "df.info()"
   ]
  },
  {
   "cell_type": "code",
   "execution_count": 6,
   "metadata": {},
   "outputs": [],
   "source": [
    "df.drop(['Unnamed: 0'],axis=1,inplace=True)"
   ]
  },
  {
   "cell_type": "code",
   "execution_count": 7,
   "metadata": {},
   "outputs": [
    {
     "data": {
      "text/html": [
       "<div>\n",
       "<style scoped>\n",
       "    .dataframe tbody tr th:only-of-type {\n",
       "        vertical-align: middle;\n",
       "    }\n",
       "\n",
       "    .dataframe tbody tr th {\n",
       "        vertical-align: top;\n",
       "    }\n",
       "\n",
       "    .dataframe thead th {\n",
       "        text-align: right;\n",
       "    }\n",
       "</style>\n",
       "<table border=\"1\" class=\"dataframe\">\n",
       "  <thead>\n",
       "    <tr style=\"text-align: right;\">\n",
       "      <th></th>\n",
       "      <th>Id</th>\n",
       "      <th>groupId</th>\n",
       "      <th>matchId</th>\n",
       "      <th>assists</th>\n",
       "      <th>boosts</th>\n",
       "      <th>damageDealt</th>\n",
       "      <th>DBNOs</th>\n",
       "      <th>headshotKills</th>\n",
       "      <th>heals</th>\n",
       "      <th>killPlace</th>\n",
       "      <th>...</th>\n",
       "      <th>revives</th>\n",
       "      <th>rideDistance</th>\n",
       "      <th>roadKills</th>\n",
       "      <th>swimDistance</th>\n",
       "      <th>teamKills</th>\n",
       "      <th>vehicleDestroys</th>\n",
       "      <th>walkDistance</th>\n",
       "      <th>weaponsAcquired</th>\n",
       "      <th>winPoints</th>\n",
       "      <th>winPlacePerc</th>\n",
       "    </tr>\n",
       "  </thead>\n",
       "  <tbody>\n",
       "    <tr>\n",
       "      <th>0</th>\n",
       "      <td>a3e3cea9f2e314</td>\n",
       "      <td>c9f6eaa81245b5</td>\n",
       "      <td>a3d8693390584c</td>\n",
       "      <td>0</td>\n",
       "      <td>0</td>\n",
       "      <td>25.93</td>\n",
       "      <td>0</td>\n",
       "      <td>0</td>\n",
       "      <td>0</td>\n",
       "      <td>84</td>\n",
       "      <td>...</td>\n",
       "      <td>0</td>\n",
       "      <td>0.0</td>\n",
       "      <td>0</td>\n",
       "      <td>0.0</td>\n",
       "      <td>0</td>\n",
       "      <td>0</td>\n",
       "      <td>151.30</td>\n",
       "      <td>1</td>\n",
       "      <td>1525</td>\n",
       "      <td>0.0667</td>\n",
       "    </tr>\n",
       "    <tr>\n",
       "      <th>1</th>\n",
       "      <td>43e4be7ad72cc7</td>\n",
       "      <td>521836de101ee8</td>\n",
       "      <td>b65de9055327e0</td>\n",
       "      <td>0</td>\n",
       "      <td>0</td>\n",
       "      <td>36.71</td>\n",
       "      <td>0</td>\n",
       "      <td>0</td>\n",
       "      <td>0</td>\n",
       "      <td>57</td>\n",
       "      <td>...</td>\n",
       "      <td>0</td>\n",
       "      <td>0.0</td>\n",
       "      <td>0</td>\n",
       "      <td>0.0</td>\n",
       "      <td>0</td>\n",
       "      <td>0</td>\n",
       "      <td>1918.00</td>\n",
       "      <td>7</td>\n",
       "      <td>1516</td>\n",
       "      <td>0.5862</td>\n",
       "    </tr>\n",
       "    <tr>\n",
       "      <th>2</th>\n",
       "      <td>9a68690e31fdff</td>\n",
       "      <td>4a72ffa2cebd90</td>\n",
       "      <td>d6aad3f9830e60</td>\n",
       "      <td>0</td>\n",
       "      <td>1</td>\n",
       "      <td>47.73</td>\n",
       "      <td>0</td>\n",
       "      <td>0</td>\n",
       "      <td>0</td>\n",
       "      <td>50</td>\n",
       "      <td>...</td>\n",
       "      <td>0</td>\n",
       "      <td>4088.0</td>\n",
       "      <td>0</td>\n",
       "      <td>0.0</td>\n",
       "      <td>0</td>\n",
       "      <td>0</td>\n",
       "      <td>820.00</td>\n",
       "      <td>7</td>\n",
       "      <td>0</td>\n",
       "      <td>0.8105</td>\n",
       "    </tr>\n",
       "    <tr>\n",
       "      <th>3</th>\n",
       "      <td>b147e1bd448fc4</td>\n",
       "      <td>9a8991656b3fea</td>\n",
       "      <td>d931c0932d8aca</td>\n",
       "      <td>0</td>\n",
       "      <td>0</td>\n",
       "      <td>0.00</td>\n",
       "      <td>0</td>\n",
       "      <td>0</td>\n",
       "      <td>0</td>\n",
       "      <td>56</td>\n",
       "      <td>...</td>\n",
       "      <td>1</td>\n",
       "      <td>0.0</td>\n",
       "      <td>0</td>\n",
       "      <td>0.0</td>\n",
       "      <td>0</td>\n",
       "      <td>0</td>\n",
       "      <td>38.81</td>\n",
       "      <td>0</td>\n",
       "      <td>1515</td>\n",
       "      <td>0.5556</td>\n",
       "    </tr>\n",
       "    <tr>\n",
       "      <th>4</th>\n",
       "      <td>d818b4edd59612</td>\n",
       "      <td>eece87c8b846b3</td>\n",
       "      <td>ec2b5ed94baae3</td>\n",
       "      <td>0</td>\n",
       "      <td>2</td>\n",
       "      <td>100.00</td>\n",
       "      <td>0</td>\n",
       "      <td>0</td>\n",
       "      <td>3</td>\n",
       "      <td>31</td>\n",
       "      <td>...</td>\n",
       "      <td>0</td>\n",
       "      <td>918.4</td>\n",
       "      <td>0</td>\n",
       "      <td>0.0</td>\n",
       "      <td>0</td>\n",
       "      <td>0</td>\n",
       "      <td>1721.00</td>\n",
       "      <td>5</td>\n",
       "      <td>0</td>\n",
       "      <td>0.6429</td>\n",
       "    </tr>\n",
       "  </tbody>\n",
       "</table>\n",
       "<p>5 rows × 29 columns</p>\n",
       "</div>"
      ],
      "text/plain": [
       "               Id         groupId         matchId  assists  boosts  \\\n",
       "0  a3e3cea9f2e314  c9f6eaa81245b5  a3d8693390584c        0       0   \n",
       "1  43e4be7ad72cc7  521836de101ee8  b65de9055327e0        0       0   \n",
       "2  9a68690e31fdff  4a72ffa2cebd90  d6aad3f9830e60        0       1   \n",
       "3  b147e1bd448fc4  9a8991656b3fea  d931c0932d8aca        0       0   \n",
       "4  d818b4edd59612  eece87c8b846b3  ec2b5ed94baae3        0       2   \n",
       "\n",
       "   damageDealt  DBNOs  headshotKills  heals  killPlace  ...  revives  \\\n",
       "0        25.93      0              0      0         84  ...        0   \n",
       "1        36.71      0              0      0         57  ...        0   \n",
       "2        47.73      0              0      0         50  ...        0   \n",
       "3         0.00      0              0      0         56  ...        1   \n",
       "4       100.00      0              0      3         31  ...        0   \n",
       "\n",
       "   rideDistance  roadKills  swimDistance  teamKills vehicleDestroys  \\\n",
       "0           0.0          0           0.0          0               0   \n",
       "1           0.0          0           0.0          0               0   \n",
       "2        4088.0          0           0.0          0               0   \n",
       "3           0.0          0           0.0          0               0   \n",
       "4         918.4          0           0.0          0               0   \n",
       "\n",
       "   walkDistance  weaponsAcquired  winPoints  winPlacePerc  \n",
       "0        151.30                1       1525        0.0667  \n",
       "1       1918.00                7       1516        0.5862  \n",
       "2        820.00                7          0        0.8105  \n",
       "3         38.81                0       1515        0.5556  \n",
       "4       1721.00                5          0        0.6429  \n",
       "\n",
       "[5 rows x 29 columns]"
      ]
     },
     "execution_count": 7,
     "metadata": {},
     "output_type": "execute_result"
    }
   ],
   "source": [
    "df.head()"
   ]
  },
  {
   "cell_type": "code",
   "execution_count": 8,
   "metadata": {},
   "outputs": [
    {
     "data": {
      "text/plain": [
       "(1048575, 29)"
      ]
     },
     "execution_count": 8,
     "metadata": {},
     "output_type": "execute_result"
    }
   ],
   "source": [
    "df.shape"
   ]
  },
  {
   "cell_type": "code",
   "execution_count": 9,
   "metadata": {},
   "outputs": [
    {
     "data": {
      "text/plain": [
       "Id                 0\n",
       "groupId            0\n",
       "matchId            0\n",
       "assists            0\n",
       "boosts             0\n",
       "damageDealt        0\n",
       "DBNOs              0\n",
       "headshotKills      0\n",
       "heals              0\n",
       "killPlace          0\n",
       "killPoints         0\n",
       "kills              0\n",
       "killStreaks        0\n",
       "longestKill        0\n",
       "matchDuration      0\n",
       "matchType          0\n",
       "maxPlace           0\n",
       "numGroups          0\n",
       "rankPoints         0\n",
       "revives            0\n",
       "rideDistance       0\n",
       "roadKills          0\n",
       "swimDistance       0\n",
       "teamKills          0\n",
       "vehicleDestroys    0\n",
       "walkDistance       0\n",
       "weaponsAcquired    0\n",
       "winPoints          0\n",
       "winPlacePerc       1\n",
       "dtype: int64"
      ]
     },
     "execution_count": 9,
     "metadata": {},
     "output_type": "execute_result"
    }
   ],
   "source": [
    "df.isnull().sum()"
   ]
  },
  {
   "cell_type": "code",
   "execution_count": 10,
   "metadata": {},
   "outputs": [],
   "source": [
    "mean=round(np.mean(df.winPlacePerc))\n",
    "df.winPlacePerc.fillna(mean,inplace=True)"
   ]
  },
  {
   "cell_type": "code",
   "execution_count": 11,
   "metadata": {},
   "outputs": [
    {
     "data": {
      "text/plain": [
       "Id                 0\n",
       "groupId            0\n",
       "matchId            0\n",
       "assists            0\n",
       "boosts             0\n",
       "damageDealt        0\n",
       "DBNOs              0\n",
       "headshotKills      0\n",
       "heals              0\n",
       "killPlace          0\n",
       "killPoints         0\n",
       "kills              0\n",
       "killStreaks        0\n",
       "longestKill        0\n",
       "matchDuration      0\n",
       "matchType          0\n",
       "maxPlace           0\n",
       "numGroups          0\n",
       "rankPoints         0\n",
       "revives            0\n",
       "rideDistance       0\n",
       "roadKills          0\n",
       "swimDistance       0\n",
       "teamKills          0\n",
       "vehicleDestroys    0\n",
       "walkDistance       0\n",
       "weaponsAcquired    0\n",
       "winPoints          0\n",
       "winPlacePerc       0\n",
       "dtype: int64"
      ]
     },
     "execution_count": 11,
     "metadata": {},
     "output_type": "execute_result"
    }
   ],
   "source": [
    "df.isnull().sum()"
   ]
  },
  {
   "cell_type": "code",
   "execution_count": 12,
   "metadata": {},
   "outputs": [
    {
     "data": {
      "text/html": [
       "<div>\n",
       "<style scoped>\n",
       "    .dataframe tbody tr th:only-of-type {\n",
       "        vertical-align: middle;\n",
       "    }\n",
       "\n",
       "    .dataframe tbody tr th {\n",
       "        vertical-align: top;\n",
       "    }\n",
       "\n",
       "    .dataframe thead th {\n",
       "        text-align: right;\n",
       "    }\n",
       "</style>\n",
       "<table border=\"1\" class=\"dataframe\">\n",
       "  <thead>\n",
       "    <tr style=\"text-align: right;\">\n",
       "      <th></th>\n",
       "      <th>assists</th>\n",
       "      <th>boosts</th>\n",
       "      <th>damageDealt</th>\n",
       "      <th>DBNOs</th>\n",
       "      <th>headshotKills</th>\n",
       "      <th>heals</th>\n",
       "      <th>killPlace</th>\n",
       "      <th>killPoints</th>\n",
       "      <th>kills</th>\n",
       "      <th>killStreaks</th>\n",
       "      <th>...</th>\n",
       "      <th>revives</th>\n",
       "      <th>rideDistance</th>\n",
       "      <th>roadKills</th>\n",
       "      <th>swimDistance</th>\n",
       "      <th>teamKills</th>\n",
       "      <th>vehicleDestroys</th>\n",
       "      <th>walkDistance</th>\n",
       "      <th>weaponsAcquired</th>\n",
       "      <th>winPoints</th>\n",
       "      <th>winPlacePerc</th>\n",
       "    </tr>\n",
       "  </thead>\n",
       "  <tbody>\n",
       "    <tr>\n",
       "      <th>count</th>\n",
       "      <td>1.048575e+06</td>\n",
       "      <td>1.048575e+06</td>\n",
       "      <td>1.048575e+06</td>\n",
       "      <td>1.048575e+06</td>\n",
       "      <td>1.048575e+06</td>\n",
       "      <td>1.048575e+06</td>\n",
       "      <td>1.048575e+06</td>\n",
       "      <td>1.048575e+06</td>\n",
       "      <td>1.048575e+06</td>\n",
       "      <td>1.048575e+06</td>\n",
       "      <td>...</td>\n",
       "      <td>1.048575e+06</td>\n",
       "      <td>1.048575e+06</td>\n",
       "      <td>1.048575e+06</td>\n",
       "      <td>1.048575e+06</td>\n",
       "      <td>1.048575e+06</td>\n",
       "      <td>1.048575e+06</td>\n",
       "      <td>1.048575e+06</td>\n",
       "      <td>1.048575e+06</td>\n",
       "      <td>1.048575e+06</td>\n",
       "      <td>1.048575e+06</td>\n",
       "    </tr>\n",
       "    <tr>\n",
       "      <th>mean</th>\n",
       "      <td>2.337735e-01</td>\n",
       "      <td>1.107179e+00</td>\n",
       "      <td>1.307811e+02</td>\n",
       "      <td>6.576058e-01</td>\n",
       "      <td>2.267239e-01</td>\n",
       "      <td>1.371099e+00</td>\n",
       "      <td>4.758626e+01</td>\n",
       "      <td>5.045784e+02</td>\n",
       "      <td>9.256734e-01</td>\n",
       "      <td>5.449615e-01</td>\n",
       "      <td>...</td>\n",
       "      <td>1.641876e-01</td>\n",
       "      <td>6.040861e+02</td>\n",
       "      <td>3.538135e-03</td>\n",
       "      <td>4.545937e+00</td>\n",
       "      <td>2.394678e-02</td>\n",
       "      <td>7.830627e-03</td>\n",
       "      <td>1.153511e+03</td>\n",
       "      <td>3.659798e+00</td>\n",
       "      <td>6.057979e+02</td>\n",
       "      <td>4.728690e-01</td>\n",
       "    </tr>\n",
       "    <tr>\n",
       "      <th>std</th>\n",
       "      <td>5.894079e-01</td>\n",
       "      <td>1.717049e+00</td>\n",
       "      <td>1.712165e+02</td>\n",
       "      <td>1.146162e+00</td>\n",
       "      <td>6.035923e-01</td>\n",
       "      <td>2.685791e+00</td>\n",
       "      <td>2.746852e+01</td>\n",
       "      <td>6.275223e+02</td>\n",
       "      <td>1.561836e+00</td>\n",
       "      <td>7.129716e-01</td>\n",
       "      <td>...</td>\n",
       "      <td>4.705090e-01</td>\n",
       "      <td>1.496032e+03</td>\n",
       "      <td>7.405721e-02</td>\n",
       "      <td>3.060622e+01</td>\n",
       "      <td>1.676868e-01</td>\n",
       "      <td>9.190444e-02</td>\n",
       "      <td>1.183004e+03</td>\n",
       "      <td>2.461532e+00</td>\n",
       "      <td>7.395466e+02</td>\n",
       "      <td>3.073868e-01</td>\n",
       "    </tr>\n",
       "    <tr>\n",
       "      <th>min</th>\n",
       "      <td>0.000000e+00</td>\n",
       "      <td>0.000000e+00</td>\n",
       "      <td>0.000000e+00</td>\n",
       "      <td>0.000000e+00</td>\n",
       "      <td>0.000000e+00</td>\n",
       "      <td>0.000000e+00</td>\n",
       "      <td>1.000000e+00</td>\n",
       "      <td>0.000000e+00</td>\n",
       "      <td>0.000000e+00</td>\n",
       "      <td>0.000000e+00</td>\n",
       "      <td>...</td>\n",
       "      <td>0.000000e+00</td>\n",
       "      <td>0.000000e+00</td>\n",
       "      <td>0.000000e+00</td>\n",
       "      <td>0.000000e+00</td>\n",
       "      <td>0.000000e+00</td>\n",
       "      <td>0.000000e+00</td>\n",
       "      <td>0.000000e+00</td>\n",
       "      <td>0.000000e+00</td>\n",
       "      <td>0.000000e+00</td>\n",
       "      <td>0.000000e+00</td>\n",
       "    </tr>\n",
       "    <tr>\n",
       "      <th>25%</th>\n",
       "      <td>0.000000e+00</td>\n",
       "      <td>0.000000e+00</td>\n",
       "      <td>0.000000e+00</td>\n",
       "      <td>0.000000e+00</td>\n",
       "      <td>0.000000e+00</td>\n",
       "      <td>0.000000e+00</td>\n",
       "      <td>2.400000e+01</td>\n",
       "      <td>0.000000e+00</td>\n",
       "      <td>0.000000e+00</td>\n",
       "      <td>0.000000e+00</td>\n",
       "      <td>...</td>\n",
       "      <td>0.000000e+00</td>\n",
       "      <td>0.000000e+00</td>\n",
       "      <td>0.000000e+00</td>\n",
       "      <td>0.000000e+00</td>\n",
       "      <td>0.000000e+00</td>\n",
       "      <td>0.000000e+00</td>\n",
       "      <td>1.553000e+02</td>\n",
       "      <td>2.000000e+00</td>\n",
       "      <td>0.000000e+00</td>\n",
       "      <td>2.000000e-01</td>\n",
       "    </tr>\n",
       "    <tr>\n",
       "      <th>50%</th>\n",
       "      <td>0.000000e+00</td>\n",
       "      <td>0.000000e+00</td>\n",
       "      <td>8.421000e+01</td>\n",
       "      <td>0.000000e+00</td>\n",
       "      <td>0.000000e+00</td>\n",
       "      <td>0.000000e+00</td>\n",
       "      <td>4.700000e+01</td>\n",
       "      <td>0.000000e+00</td>\n",
       "      <td>0.000000e+00</td>\n",
       "      <td>0.000000e+00</td>\n",
       "      <td>...</td>\n",
       "      <td>0.000000e+00</td>\n",
       "      <td>0.000000e+00</td>\n",
       "      <td>0.000000e+00</td>\n",
       "      <td>0.000000e+00</td>\n",
       "      <td>0.000000e+00</td>\n",
       "      <td>0.000000e+00</td>\n",
       "      <td>6.841000e+02</td>\n",
       "      <td>3.000000e+00</td>\n",
       "      <td>0.000000e+00</td>\n",
       "      <td>4.583000e-01</td>\n",
       "    </tr>\n",
       "    <tr>\n",
       "      <th>75%</th>\n",
       "      <td>0.000000e+00</td>\n",
       "      <td>2.000000e+00</td>\n",
       "      <td>1.860000e+02</td>\n",
       "      <td>1.000000e+00</td>\n",
       "      <td>0.000000e+00</td>\n",
       "      <td>2.000000e+00</td>\n",
       "      <td>7.100000e+01</td>\n",
       "      <td>1.172000e+03</td>\n",
       "      <td>1.000000e+00</td>\n",
       "      <td>1.000000e+00</td>\n",
       "      <td>...</td>\n",
       "      <td>0.000000e+00</td>\n",
       "      <td>5.870000e-02</td>\n",
       "      <td>0.000000e+00</td>\n",
       "      <td>0.000000e+00</td>\n",
       "      <td>0.000000e+00</td>\n",
       "      <td>0.000000e+00</td>\n",
       "      <td>1.975000e+03</td>\n",
       "      <td>5.000000e+00</td>\n",
       "      <td>1.495000e+03</td>\n",
       "      <td>7.407000e-01</td>\n",
       "    </tr>\n",
       "    <tr>\n",
       "      <th>max</th>\n",
       "      <td>1.700000e+01</td>\n",
       "      <td>2.400000e+01</td>\n",
       "      <td>5.990000e+03</td>\n",
       "      <td>3.500000e+01</td>\n",
       "      <td>6.400000e+01</td>\n",
       "      <td>7.300000e+01</td>\n",
       "      <td>1.000000e+02</td>\n",
       "      <td>2.170000e+03</td>\n",
       "      <td>7.200000e+01</td>\n",
       "      <td>2.000000e+01</td>\n",
       "      <td>...</td>\n",
       "      <td>2.300000e+01</td>\n",
       "      <td>3.540000e+04</td>\n",
       "      <td>1.400000e+01</td>\n",
       "      <td>2.668000e+03</td>\n",
       "      <td>1.000000e+01</td>\n",
       "      <td>5.000000e+00</td>\n",
       "      <td>1.396000e+04</td>\n",
       "      <td>1.770000e+02</td>\n",
       "      <td>2.002000e+03</td>\n",
       "      <td>1.000000e+00</td>\n",
       "    </tr>\n",
       "  </tbody>\n",
       "</table>\n",
       "<p>8 rows × 25 columns</p>\n",
       "</div>"
      ],
      "text/plain": [
       "            assists        boosts   damageDealt         DBNOs  headshotKills  \\\n",
       "count  1.048575e+06  1.048575e+06  1.048575e+06  1.048575e+06   1.048575e+06   \n",
       "mean   2.337735e-01  1.107179e+00  1.307811e+02  6.576058e-01   2.267239e-01   \n",
       "std    5.894079e-01  1.717049e+00  1.712165e+02  1.146162e+00   6.035923e-01   \n",
       "min    0.000000e+00  0.000000e+00  0.000000e+00  0.000000e+00   0.000000e+00   \n",
       "25%    0.000000e+00  0.000000e+00  0.000000e+00  0.000000e+00   0.000000e+00   \n",
       "50%    0.000000e+00  0.000000e+00  8.421000e+01  0.000000e+00   0.000000e+00   \n",
       "75%    0.000000e+00  2.000000e+00  1.860000e+02  1.000000e+00   0.000000e+00   \n",
       "max    1.700000e+01  2.400000e+01  5.990000e+03  3.500000e+01   6.400000e+01   \n",
       "\n",
       "              heals     killPlace    killPoints         kills   killStreaks  \\\n",
       "count  1.048575e+06  1.048575e+06  1.048575e+06  1.048575e+06  1.048575e+06   \n",
       "mean   1.371099e+00  4.758626e+01  5.045784e+02  9.256734e-01  5.449615e-01   \n",
       "std    2.685791e+00  2.746852e+01  6.275223e+02  1.561836e+00  7.129716e-01   \n",
       "min    0.000000e+00  1.000000e+00  0.000000e+00  0.000000e+00  0.000000e+00   \n",
       "25%    0.000000e+00  2.400000e+01  0.000000e+00  0.000000e+00  0.000000e+00   \n",
       "50%    0.000000e+00  4.700000e+01  0.000000e+00  0.000000e+00  0.000000e+00   \n",
       "75%    2.000000e+00  7.100000e+01  1.172000e+03  1.000000e+00  1.000000e+00   \n",
       "max    7.300000e+01  1.000000e+02  2.170000e+03  7.200000e+01  2.000000e+01   \n",
       "\n",
       "       ...       revives  rideDistance     roadKills  swimDistance  \\\n",
       "count  ...  1.048575e+06  1.048575e+06  1.048575e+06  1.048575e+06   \n",
       "mean   ...  1.641876e-01  6.040861e+02  3.538135e-03  4.545937e+00   \n",
       "std    ...  4.705090e-01  1.496032e+03  7.405721e-02  3.060622e+01   \n",
       "min    ...  0.000000e+00  0.000000e+00  0.000000e+00  0.000000e+00   \n",
       "25%    ...  0.000000e+00  0.000000e+00  0.000000e+00  0.000000e+00   \n",
       "50%    ...  0.000000e+00  0.000000e+00  0.000000e+00  0.000000e+00   \n",
       "75%    ...  0.000000e+00  5.870000e-02  0.000000e+00  0.000000e+00   \n",
       "max    ...  2.300000e+01  3.540000e+04  1.400000e+01  2.668000e+03   \n",
       "\n",
       "          teamKills  vehicleDestroys  walkDistance  weaponsAcquired  \\\n",
       "count  1.048575e+06     1.048575e+06  1.048575e+06     1.048575e+06   \n",
       "mean   2.394678e-02     7.830627e-03  1.153511e+03     3.659798e+00   \n",
       "std    1.676868e-01     9.190444e-02  1.183004e+03     2.461532e+00   \n",
       "min    0.000000e+00     0.000000e+00  0.000000e+00     0.000000e+00   \n",
       "25%    0.000000e+00     0.000000e+00  1.553000e+02     2.000000e+00   \n",
       "50%    0.000000e+00     0.000000e+00  6.841000e+02     3.000000e+00   \n",
       "75%    0.000000e+00     0.000000e+00  1.975000e+03     5.000000e+00   \n",
       "max    1.000000e+01     5.000000e+00  1.396000e+04     1.770000e+02   \n",
       "\n",
       "          winPoints  winPlacePerc  \n",
       "count  1.048575e+06  1.048575e+06  \n",
       "mean   6.057979e+02  4.728690e-01  \n",
       "std    7.395466e+02  3.073868e-01  \n",
       "min    0.000000e+00  0.000000e+00  \n",
       "25%    0.000000e+00  2.000000e-01  \n",
       "50%    0.000000e+00  4.583000e-01  \n",
       "75%    1.495000e+03  7.407000e-01  \n",
       "max    2.002000e+03  1.000000e+00  \n",
       "\n",
       "[8 rows x 25 columns]"
      ]
     },
     "execution_count": 12,
     "metadata": {},
     "output_type": "execute_result"
    }
   ],
   "source": [
    "df.describe()"
   ]
  },
  {
   "cell_type": "code",
   "execution_count": 13,
   "metadata": {},
   "outputs": [
    {
     "data": {
      "text/html": [
       "<div>\n",
       "<style scoped>\n",
       "    .dataframe tbody tr th:only-of-type {\n",
       "        vertical-align: middle;\n",
       "    }\n",
       "\n",
       "    .dataframe tbody tr th {\n",
       "        vertical-align: top;\n",
       "    }\n",
       "\n",
       "    .dataframe thead th {\n",
       "        text-align: right;\n",
       "    }\n",
       "</style>\n",
       "<table border=\"1\" class=\"dataframe\">\n",
       "  <thead>\n",
       "    <tr style=\"text-align: right;\">\n",
       "      <th></th>\n",
       "      <th>Type</th>\n",
       "      <th>Count</th>\n",
       "    </tr>\n",
       "  </thead>\n",
       "  <tbody>\n",
       "    <tr>\n",
       "      <th>0</th>\n",
       "      <td>squad-fpp</td>\n",
       "      <td>414174</td>\n",
       "    </tr>\n",
       "    <tr>\n",
       "      <th>1</th>\n",
       "      <td>duo-fpp</td>\n",
       "      <td>235542</td>\n",
       "    </tr>\n",
       "    <tr>\n",
       "      <th>2</th>\n",
       "      <td>squad</td>\n",
       "      <td>147715</td>\n",
       "    </tr>\n",
       "    <tr>\n",
       "      <th>3</th>\n",
       "      <td>solo-fpp</td>\n",
       "      <td>126104</td>\n",
       "    </tr>\n",
       "    <tr>\n",
       "      <th>4</th>\n",
       "      <td>duo</td>\n",
       "      <td>73629</td>\n",
       "    </tr>\n",
       "    <tr>\n",
       "      <th>5</th>\n",
       "      <td>solo</td>\n",
       "      <td>43010</td>\n",
       "    </tr>\n",
       "    <tr>\n",
       "      <th>6</th>\n",
       "      <td>normal-squad-fpp</td>\n",
       "      <td>4042</td>\n",
       "    </tr>\n",
       "    <tr>\n",
       "      <th>7</th>\n",
       "      <td>crashfpp</td>\n",
       "      <td>1500</td>\n",
       "    </tr>\n",
       "    <tr>\n",
       "      <th>8</th>\n",
       "      <td>normal-duo-fpp</td>\n",
       "      <td>1320</td>\n",
       "    </tr>\n",
       "    <tr>\n",
       "      <th>9</th>\n",
       "      <td>flaretpp</td>\n",
       "      <td>597</td>\n",
       "    </tr>\n",
       "    <tr>\n",
       "      <th>10</th>\n",
       "      <td>normal-solo-fpp</td>\n",
       "      <td>441</td>\n",
       "    </tr>\n",
       "    <tr>\n",
       "      <th>11</th>\n",
       "      <td>flarefpp</td>\n",
       "      <td>169</td>\n",
       "    </tr>\n",
       "    <tr>\n",
       "      <th>12</th>\n",
       "      <td>normal-squad</td>\n",
       "      <td>128</td>\n",
       "    </tr>\n",
       "    <tr>\n",
       "      <th>13</th>\n",
       "      <td>crashtpp</td>\n",
       "      <td>83</td>\n",
       "    </tr>\n",
       "    <tr>\n",
       "      <th>14</th>\n",
       "      <td>normal-solo</td>\n",
       "      <td>74</td>\n",
       "    </tr>\n",
       "    <tr>\n",
       "      <th>15</th>\n",
       "      <td>normal-duo</td>\n",
       "      <td>47</td>\n",
       "    </tr>\n",
       "  </tbody>\n",
       "</table>\n",
       "</div>"
      ],
      "text/plain": [
       "                Type   Count\n",
       "0          squad-fpp  414174\n",
       "1            duo-fpp  235542\n",
       "2              squad  147715\n",
       "3           solo-fpp  126104\n",
       "4                duo   73629\n",
       "5               solo   43010\n",
       "6   normal-squad-fpp    4042\n",
       "7           crashfpp    1500\n",
       "8     normal-duo-fpp    1320\n",
       "9           flaretpp     597\n",
       "10   normal-solo-fpp     441\n",
       "11          flarefpp     169\n",
       "12      normal-squad     128\n",
       "13          crashtpp      83\n",
       "14       normal-solo      74\n",
       "15        normal-duo      47"
      ]
     },
     "execution_count": 13,
     "metadata": {},
     "output_type": "execute_result"
    }
   ],
   "source": [
    "match_types = df.loc[:,\"matchType\"].value_counts().to_frame().reset_index()\n",
    "match_types.columns = [\"Type\",\"Count\"]\n",
    "match_types"
   ]
  },
  {
   "cell_type": "code",
   "execution_count": 14,
   "metadata": {},
   "outputs": [
    {
     "data": {
      "text/plain": [
       "47944"
      ]
     },
     "execution_count": 14,
     "metadata": {},
     "output_type": "execute_result"
    }
   ],
   "source": [
    "number_of_matches = df.loc[:,\"matchId\"].nunique()\n",
    "number_of_matches"
   ]
  },
  {
   "cell_type": "code",
   "execution_count": 15,
   "metadata": {},
   "outputs": [
    {
     "data": {
      "image/png": "[encoded data removed]",
      "text/plain": [
       "<Figure size 1296x432 with 1 Axes>"
      ]
     },
     "metadata": {
      "needs_background": "light"
     },
     "output_type": "display_data"
    }
   ],
   "source": [
    "plt.figure(figsize=(18,6))\n",
    "sns.countplot(x='matchType',data=df)\n",
    "plt.xticks(rotation=90)\n",
    "plt.show()"
   ]
  },
  {
   "cell_type": "code",
   "execution_count": 16,
   "metadata": {},
   "outputs": [
    {
     "data": {
      "text/html": [
       "<div>\n",
       "<style scoped>\n",
       "    .dataframe tbody tr th:only-of-type {\n",
       "        vertical-align: middle;\n",
       "    }\n",
       "\n",
       "    .dataframe tbody tr th {\n",
       "        vertical-align: top;\n",
       "    }\n",
       "\n",
       "    .dataframe thead th {\n",
       "        text-align: right;\n",
       "    }\n",
       "</style>\n",
       "<table border=\"1\" class=\"dataframe\">\n",
       "  <thead>\n",
       "    <tr style=\"text-align: right;\">\n",
       "      <th></th>\n",
       "      <th>count</th>\n",
       "    </tr>\n",
       "  </thead>\n",
       "  <tbody>\n",
       "    <tr>\n",
       "      <th>squad</th>\n",
       "      <td>566059</td>\n",
       "    </tr>\n",
       "    <tr>\n",
       "      <th>duo</th>\n",
       "      <td>310538</td>\n",
       "    </tr>\n",
       "    <tr>\n",
       "      <th>solo</th>\n",
       "      <td>169629</td>\n",
       "    </tr>\n",
       "  </tbody>\n",
       "</table>\n",
       "</div>"
      ],
      "text/plain": [
       "        count\n",
       "squad  566059\n",
       "duo    310538\n",
       "solo   169629"
      ]
     },
     "execution_count": 16,
     "metadata": {},
     "output_type": "execute_result"
    }
   ],
   "source": [
    "match_types1 = df.loc[:,\"matchType\"].value_counts().to_frame()\n",
    "aggregated_squads = match_types1.loc[[\"squad-fpp\",\"squad\",\"normal-squad-fpp\",\"normal-squad\"],\"matchType\"].sum()\n",
    "aggregated_duos = match_types1.loc[[\"duo-fpp\",\"duo\",\"normal-duo-fpp\",\"normal-duo\"],\"matchType\"].sum()\n",
    "aggregated_solo = match_types1.loc[[\"solo-fpp\",\"solo\",\"normal-solo-fpp\",\"normal-solo\"],\"matchType\"].sum()\n",
    "aggregated_match = pd.DataFrame([aggregated_squads,aggregated_duos,aggregated_solo], index=[\"squad\",\"duo\",\"solo\"], columns =[\"count\"])\n",
    "aggregated_match"
   ]
  },
  {
   "cell_type": "code",
   "execution_count": 17,
   "metadata": {},
   "outputs": [
    {
     "data": {
      "image/png": "[encoded data removed]",
      "text/plain": [
       "<Figure size 360x360 with 1 Axes>"
      ]
     },
     "metadata": {},
     "output_type": "display_data"
    }
   ],
   "source": [
    "fig1, ax1 = plt.subplots(figsize=(5, 5))\n",
    "labels = ['squad', 'duo', 'solo']\n",
    "wedges, texts, autotexts = ax1.pie(aggregated_match[\"count\"],textprops=dict(color=\"w\"), autopct='%1.1f%%')\n",
    "ax1.legend(wedges, labels,title=\"Types\",loc=\"center left\",bbox_to_anchor=(1, 0, 0.5, 1))\n",
    "plt.setp(autotexts, size=12, weight=\"bold\")\n",
    "plt.show()"
   ]
  },
  {
   "cell_type": "code",
   "execution_count": 18,
   "metadata": {},
   "outputs": [
    {
     "data": {
      "image/png": "[encoded data removed]",
      "text/plain": [
       "<Figure size 1080x576 with 1 Axes>"
      ]
     },
     "metadata": {
      "needs_background": "light"
     },
     "output_type": "display_data"
    }
   ],
   "source": [
    "plt.figure(figsize=(15,8))\n",
    "sns.distplot(df['numGroups'])\n",
    "plt.title('Number of groups')\n",
    "plt.show()"
   ]
  },
  {
   "cell_type": "code",
   "execution_count": 19,
   "metadata": {},
   "outputs": [
    {
     "data": {
      "image/png": "[encoded data removed]",
      "text/plain": [
       "<Figure size 1080x576 with 1 Axes>"
      ]
     },
     "metadata": {
      "needs_background": "light"
     },
     "output_type": "display_data"
    }
   ],
   "source": [
    "plt.figure(figsize=(15,8))\n",
    "sns.boxplot(x='kills',y='damageDealt',data=df)\n",
    "plt.title('Damage Dealth VS Number of kills')\n",
    "plt.show()"
   ]
  },
  {
   "cell_type": "code",
   "execution_count": 20,
   "metadata": {},
   "outputs": [
    {
     "data": {
      "text/html": [
       "<div>\n",
       "<style scoped>\n",
       "    .dataframe tbody tr th:only-of-type {\n",
       "        vertical-align: middle;\n",
       "    }\n",
       "\n",
       "    .dataframe tbody tr th {\n",
       "        vertical-align: top;\n",
       "    }\n",
       "\n",
       "    .dataframe thead th {\n",
       "        text-align: right;\n",
       "    }\n",
       "</style>\n",
       "<table border=\"1\" class=\"dataframe\">\n",
       "  <thead>\n",
       "    <tr style=\"text-align: right;\">\n",
       "      <th></th>\n",
       "      <th>Id</th>\n",
       "      <th>assists</th>\n",
       "      <th>damageDealt</th>\n",
       "      <th>headshotKills</th>\n",
       "      <th>kills</th>\n",
       "      <th>longestKill</th>\n",
       "    </tr>\n",
       "  </thead>\n",
       "  <tbody>\n",
       "    <tr>\n",
       "      <th>349163</th>\n",
       "      <td>97047ef60af1e7</td>\n",
       "      <td>11</td>\n",
       "      <td>5520.0</td>\n",
       "      <td>8</td>\n",
       "      <td>53</td>\n",
       "      <td>39.20</td>\n",
       "    </tr>\n",
       "    <tr>\n",
       "      <th>697393</th>\n",
       "      <td>1f6ceaa5140fb6</td>\n",
       "      <td>15</td>\n",
       "      <td>5468.0</td>\n",
       "      <td>13</td>\n",
       "      <td>56</td>\n",
       "      <td>79.06</td>\n",
       "    </tr>\n",
       "    <tr>\n",
       "      <th>758017</th>\n",
       "      <td>06308c988bf0c2</td>\n",
       "      <td>7</td>\n",
       "      <td>5990.0</td>\n",
       "      <td>64</td>\n",
       "      <td>72</td>\n",
       "      <td>78.23</td>\n",
       "    </tr>\n",
       "    <tr>\n",
       "      <th>1036315</th>\n",
       "      <td>2ade4369bccd12</td>\n",
       "      <td>12</td>\n",
       "      <td>5557.0</td>\n",
       "      <td>7</td>\n",
       "      <td>55</td>\n",
       "      <td>74.79</td>\n",
       "    </tr>\n",
       "  </tbody>\n",
       "</table>\n",
       "</div>"
      ],
      "text/plain": [
       "                     Id  assists  damageDealt  headshotKills  kills  \\\n",
       "349163   97047ef60af1e7       11       5520.0              8     53   \n",
       "697393   1f6ceaa5140fb6       15       5468.0             13     56   \n",
       "758017   06308c988bf0c2        7       5990.0             64     72   \n",
       "1036315  2ade4369bccd12       12       5557.0              7     55   \n",
       "\n",
       "         longestKill  \n",
       "349163         39.20  \n",
       "697393         79.06  \n",
       "758017         78.23  \n",
       "1036315        74.79  "
      ]
     },
     "execution_count": 20,
     "metadata": {},
     "output_type": "execute_result"
    }
   ],
   "source": [
    "df[df['kills']>50][[\"Id\",\"assists\",\"damageDealt\",\"headshotKills\",\"kills\",\"longestKill\"]]"
   ]
  },
  {
   "cell_type": "code",
   "execution_count": 21,
   "metadata": {},
   "outputs": [
    {
     "name": "stdout",
     "output_type": "stream",
     "text": [
      "Maximum number of headshots that the player scored: 64\n"
     ]
    },
    {
     "data": {
      "image/png": "[encoded data removed]",
      "text/plain": [
       "<Figure size 1080x360 with 1 Axes>"
      ]
     },
     "metadata": {
      "needs_background": "light"
     },
     "output_type": "display_data"
    }
   ],
   "source": [
    "headshots = df[df['headshotKills']>0]\n",
    "plt.figure(figsize=(15,5))\n",
    "sns.countplot(headshots['headshotKills'].sort_values())\n",
    "print(\"Maximum number of headshots that the player scored: \" + str(df[\"headshotKills\"].max()))"
   ]
  },
  {
   "cell_type": "code",
   "execution_count": 22,
   "metadata": {},
   "outputs": [
    {
     "name": "stdout",
     "output_type": "stream",
     "text": [
      "Mean number of DBNOs that the player scored: 0.6576057983453735\n"
     ]
    },
    {
     "data": {
      "image/png": "[encoded data removed]",
      "text/plain": [
       "<Figure size 1080x360 with 1 Axes>"
      ]
     },
     "metadata": {
      "needs_background": "light"
     },
     "output_type": "display_data"
    }
   ],
   "source": [
    "headshots = df[df['DBNOs']>0]\n",
    "plt.figure(figsize=(15,5))\n",
    "sns.countplot(headshots['DBNOs'].sort_values())\n",
    "print(\"Mean number of DBNOs that the player scored: \" + str(df[\"DBNOs\"].mean()))"
   ]
  },
  {
   "cell_type": "code",
   "execution_count": 23,
   "metadata": {},
   "outputs": [
    {
     "data": {
      "image/png": "[encoded data removed]",
      "text/plain": [
       "<Figure size 1080x576 with 1 Axes>"
      ]
     },
     "metadata": {
      "needs_background": "light"
     },
     "output_type": "display_data"
    }
   ],
   "source": [
    "plt.figure(figsize=(15,8))\n",
    "ax2 = sns.boxplot(x=\"DBNOs\",y=\"kills\", data = df)\n",
    "ax2.set_title(\"Number of DBNOs vs. Number of Kills\")\n",
    "plt.show()"
   ]
  },
  {
   "cell_type": "code",
   "execution_count": 24,
   "metadata": {},
   "outputs": [
    {
     "data": {
      "image/png": "[encoded data removed]",
      "text/plain": [
       "<Figure size 1152x576 with 1 Axes>"
      ]
     },
     "metadata": {
      "needs_background": "light"
     },
     "output_type": "display_data"
    }
   ],
   "source": [
    "dist = df[df['longestKill']<200]\n",
    "dist.hist('longestKill', bins=20, figsize = (16,8))\n",
    "plt.show()"
   ]
  },
  {
   "cell_type": "code",
   "execution_count": 25,
   "metadata": {},
   "outputs": [
    {
     "name": "stdout",
     "output_type": "stream",
     "text": [
      "Average longest kill distance a player achieve is 23.0m, 95% of them not more than 125.9m and a maximum distance is 1040.0m.\n"
     ]
    }
   ],
   "source": [
    "print(\"Average longest kill distance a player achieve is {:.1f}m, 95% of them not more than {:.1f}m and a maximum distance is {:.1f}m.\" .format(df['longestKill'].mean(),df['longestKill'].quantile(0.95),df['longestKill'].max()))"
   ]
  },
  {
   "cell_type": "code",
   "execution_count": 26,
   "metadata": {},
   "outputs": [
    {
     "name": "stdout",
     "output_type": "stream",
     "text": [
      "number of players who didnot ride at all: 780616\n"
     ]
    }
   ],
   "source": [
    "ride = df[\"rideDistance\"] == 0\n",
    "print('number of players who didnot ride at all:',ride.sum())"
   ]
  },
  {
   "cell_type": "code",
   "execution_count": 27,
   "metadata": {},
   "outputs": [
    {
     "name": "stdout",
     "output_type": "stream",
     "text": [
      "number of players who dint swim at all 980063\n"
     ]
    }
   ],
   "source": [
    "swim=df['swimDistance']==0\n",
    "print('number of players who dint swim at all',swim.sum())"
   ]
  },
  {
   "cell_type": "code",
   "execution_count": 28,
   "metadata": {},
   "outputs": [
    {
     "data": {
      "image/png": "[encoded data removed]",
      "text/plain": [
       "<Figure size 1080x720 with 1 Axes>"
      ]
     },
     "metadata": {
      "needs_background": "light"
     },
     "output_type": "display_data"
    }
   ],
   "source": [
    "travel_dist = df[\"walkDistance\"] + df[\"rideDistance\"] + df[\"swimDistance\"]\n",
    "travel_dist = travel_dist[travel_dist<5000]\n",
    "travel_dist.hist(bins=40, figsize = (15,10))\n",
    "plt.show()"
   ]
  },
  {
   "cell_type": "code",
   "execution_count": 29,
   "metadata": {},
   "outputs": [
    {
     "name": "stdout",
     "output_type": "stream",
     "text": [
      "TOP 10 overview\n",
      "\n",
      "Average number of kills: 2.6\n",
      "Minimum: 0\n",
      "The best: 72\n",
      "95% of players within: 8.0 kills.\n"
     ]
    }
   ],
   "source": [
    "top10 = df[df[\"winPlacePerc\"]>0.9]\n",
    "print(\"TOP 10 overview\\n\")\n",
    "print(\"Average number of kills: {:.1f}\\nMinimum: {}\\nThe best: {}\\n95% of players within: {} kills.\" \n",
    "      .format(top10[\"kills\"].mean(), top10[\"kills\"].min(), top10[\"kills\"].max(),top10[\"kills\"].quantile(0.95)))"
   ]
  },
  {
   "cell_type": "code",
   "execution_count": 30,
   "metadata": {},
   "outputs": [
    {
     "data": {
      "image/png": "[encoded data removed]",
      "text/plain": [
       "<Figure size 1080x576 with 1 Axes>"
      ]
     },
     "metadata": {
      "needs_background": "light"
     },
     "output_type": "display_data"
    }
   ],
   "source": [
    "kills = df.copy()\n",
    "kills['killsCategories'] = pd.cut(kills['kills'], [-1, 0, 2, 5, 10, 60], labels=['0_kills','1-2_kills', '3-5_kills', '6-10_kills', '10+_kills'])\n",
    "plt.figure(figsize=(15,8))\n",
    "sns.boxplot(x=\"killsCategories\", y=\"winPlacePerc\", data=kills)\n",
    "plt.show()"
   ]
  },
  {
   "cell_type": "code",
   "execution_count": 31,
   "metadata": {},
   "outputs": [
    {
     "data": {
      "image/png": "[encoded data removed]",
      "text/plain": [
       "<Figure size 1368x864 with 6 Axes>"
      ]
     },
     "metadata": {
      "needs_background": "light"
     },
     "output_type": "display_data"
    }
   ],
   "source": [
    "plt.figure(figsize=(19,12))\n",
    "\n",
    "\n",
    "num_features = df.select_dtypes(include=['int64']).columns\n",
    "for i in range(6):\n",
    "    plt.subplot(2,3,i+1)\n",
    "    plt.boxplot(df[num_features[i]])\n",
    "    plt.title(num_features[i],color=\"b\",fontsize=20)\n",
    "    plt.yticks(fontsize=14)\n",
    "    plt.xticks(fontsize=14)"
   ]
  },
  {
   "cell_type": "code",
   "execution_count": 32,
   "metadata": {},
   "outputs": [],
   "source": [
    "from scipy.stats.mstats import winsorize\n",
    "df[\"assists\"]           = winsorize(df[\"assists\"],(0,0.18))\n",
    "df[\"boosts\"]        = winsorize(df[\"boosts\"],(0,0.090))\n",
    "df[\"DBNOs\"]  = winsorize(df[\"DBNOs\"],(0,0.090))\n",
    "df[\"headshotKills\"]  = winsorize(df[\"headshotKills\"],(0,0.17))\n",
    "df[\"heals\"]  = winsorize(df[\"heals\"],(0,0.090))\n",
    "df[\"killPlace\"]= winsorize(df[\"killPlace\"],(0.,0.090))"
   ]
  },
  {
   "cell_type": "code",
   "execution_count": 33,
   "metadata": {},
   "outputs": [
    {
     "ename": "NameError",
     "evalue": "name 'lt' is not defined",
     "output_type": "error",
     "traceback": [
      "\u001b[1;31m---------------------------------------------------------------------------\u001b[0m",
      "\u001b[1;31mNameError\u001b[0m                                 Traceback (most recent call last)",
      "\u001b[1;32m<ipython-input-33-8a45edca5d62>\u001b[0m in \u001b[0;36m<module>\u001b[1;34m\u001b[0m\n\u001b[1;32m----> 1\u001b[1;33m \u001b[0mlt\u001b[0m\u001b[1;33m.\u001b[0m\u001b[0mfigure\u001b[0m\u001b[1;33m(\u001b[0m\u001b[0mfigsize\u001b[0m\u001b[1;33m=\u001b[0m\u001b[1;33m(\u001b[0m\u001b[1;36m19\u001b[0m\u001b[1;33m,\u001b[0m\u001b[1;36m12\u001b[0m\u001b[1;33m)\u001b[0m\u001b[1;33m)\u001b[0m\u001b[1;33m\u001b[0m\u001b[1;33m\u001b[0m\u001b[0m\n\u001b[0m\u001b[0;32m      2\u001b[0m \u001b[1;33m\u001b[0m\u001b[0m\n\u001b[0;32m      3\u001b[0m \u001b[1;33m\u001b[0m\u001b[0m\n\u001b[0;32m      4\u001b[0m \u001b[0mnum_features\u001b[0m \u001b[1;33m=\u001b[0m \u001b[0mdf\u001b[0m\u001b[1;33m.\u001b[0m\u001b[0mselect_dtypes\u001b[0m\u001b[1;33m(\u001b[0m\u001b[0minclude\u001b[0m\u001b[1;33m=\u001b[0m\u001b[1;33m[\u001b[0m\u001b[1;34m'int64'\u001b[0m\u001b[1;33m]\u001b[0m\u001b[1;33m)\u001b[0m\u001b[1;33m.\u001b[0m\u001b[0mcolumns\u001b[0m\u001b[1;33m\u001b[0m\u001b[1;33m\u001b[0m\u001b[0m\n\u001b[0;32m      5\u001b[0m \u001b[1;32mfor\u001b[0m \u001b[0mi\u001b[0m \u001b[1;32min\u001b[0m \u001b[0mrange\u001b[0m\u001b[1;33m(\u001b[0m\u001b[1;36m6\u001b[0m\u001b[1;33m)\u001b[0m\u001b[1;33m:\u001b[0m\u001b[1;33m\u001b[0m\u001b[1;33m\u001b[0m\u001b[0m\n",
      "\u001b[1;31mNameError\u001b[0m: name 'lt' is not defined"
     ]
    }
   ],
   "source": [
    "lt.figure(figsize=(19,12))\n",
    "\n",
    "\n",
    "num_features = df.select_dtypes(include=['int64']).columns\n",
    "for i in range(6):\n",
    "    plt.subplot(2,3,i+1)\n",
    "    plt.boxplot(df[num_features[i]])\n",
    "    plt.title(num_features[i],color=\"b\",fontsize=20)\n",
    "    plt.yticks(fontsize=14)\n",
    "    plt.xticks(fontsize=14)"
   ]
  },
  {
   "cell_type": "code",
   "execution_count": null,
   "metadata": {},
   "outputs": [],
   "source": [
    "print(\"Average longest kill distance a player achieve is {:.1f}m, 95% of them not more than {:.1f}m and a maximum distance is {:.1f}m.\" .format(df['longestKill'].mean(),df['longestKill'].quantile(0.95),df['longestKill'].max()))"
   ]
  },
  {
   "cell_type": "code",
   "execution_count": null,
   "metadata": {},
   "outputs": [],
   "source": []
  }
 ],
 "metadata": {
  "kernelspec": {
   "display_name": "Python 3",
   "language": "python",
   "name": "python3"
  },
  "language_info": {
   "codemirror_mode": {
    "name": "ipython",
    "version": 3
   },
   "file_extension": ".py",
   "mimetype": "text/x-python",
   "name": "python",
   "nbconvert_exporter": "python",
   "pygments_lexer": "ipython3",
   "version": "3.8.3"
  }
 },
 "nbformat": 4,
 "nbformat_minor": 4
}
